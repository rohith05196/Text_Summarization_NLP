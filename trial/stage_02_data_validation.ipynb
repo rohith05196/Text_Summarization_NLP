{
 "cells": [
  {
   "cell_type": "code",
   "execution_count": 1,
   "metadata": {},
   "outputs": [],
   "source": [
    "import os"
   ]
  },
  {
   "cell_type": "code",
   "execution_count": 2,
   "metadata": {},
   "outputs": [
    {
     "data": {
      "text/plain": [
       "'/home/sachin/Documents/Rohith_ML/Text_Summarization_NLP/trial'"
      ]
     },
     "execution_count": 2,
     "metadata": {},
     "output_type": "execute_result"
    }
   ],
   "source": [
    "%pwd"
   ]
  },
  {
   "cell_type": "code",
   "execution_count": 3,
   "metadata": {},
   "outputs": [],
   "source": [
    "os.chdir(\"../\")"
   ]
  },
  {
   "cell_type": "code",
   "execution_count": 4,
   "metadata": {},
   "outputs": [],
   "source": [
    "from dataclasses import dataclass\n",
    "from pathlib import Path\n",
    "\n",
    "@dataclass(frozen=True)\n",
    "class DataValidationConfig:\n",
    "    root_dir: Path\n",
    "    STATUS_FILE: str\n",
    "    ALL_REQUIRED_FILES: list\n"
   ]
  },
  {
   "cell_type": "code",
   "execution_count": 5,
   "metadata": {},
   "outputs": [],
   "source": [
    "from textsummarizer.constants import *\n",
    "from textsummarizer.utils.common_func import read_yaml, create_directories\n",
    "\n",
    "class ConfigurationManager:\n",
    "    def __init__(self, config_file_path = CONFIG_FILE_PATH, params_file_path = PARAMS_FILE_PATH):\n",
    "        self.config = read_yaml(config_file_path)\n",
    "        self.params = read_yaml(params_file_path)\n",
    "\n",
    "        create_directories([self.config.artifacts_root])\n",
    "\n",
    "    def get_data_validation_config(self) -> DataValidationConfig:\n",
    "        config = self.config.data_validation\n",
    "\n",
    "        create_directories([config.root_dir])\n",
    "\n",
    "        data_validation_config = DataValidationConfig(\n",
    "            root_dir=Path(config.root_dir),\n",
    "            STATUS_FILE=config.STATUS_FILE,\n",
    "            ALL_REQUIRED_FILES = config.ALL_REQUIRED_FILES\n",
    "        )\n",
    "\n",
    "        return data_validation_config"
   ]
  },
  {
   "cell_type": "code",
   "execution_count": 6,
   "metadata": {},
   "outputs": [],
   "source": [
    "from urllib import request\n",
    "import zipfile\n",
    "import os\n",
    "from textsummarizer.logging import logger\n",
    "from textsummarizer.utils.common_func import get_size\n",
    "\n",
    "class DataValidation:\n",
    "    def __init__(self, config: DataValidationConfig):\n",
    "        self.config = config\n",
    "\n",
    "    def validation_exist_files(self)-> bool:\n",
    "        \"\"\"\n",
    "        Check if all required files exist in the directory.\n",
    "        \"\"\"\n",
    "        logger.info(\"Checking if all required files exist...\")\n",
    "        files = os.listdir(\"artifacts/data_ingestion/samsum_dataset\")\n",
    "        status = None\n",
    "        for file in files:\n",
    "            if file not in self.config.ALL_REQUIRED_FILES:\n",
    "                status = False\n",
    "                logger.info(f\"File {file} is missing.\")\n",
    "                with open(self.config.STATUS_FILE, 'w') as file:\n",
    "                    file.write(f\" Validatiion status: {status}\")\n",
    "            else:\n",
    "                status = True\n",
    "                logger.info(\"All required files exist.\")\n",
    "                with open(self.config.STATUS_FILE, 'w') as file:\n",
    "                    file.write(f\" Validatiion status: {status}\")    \n",
    "\n",
    "        return status\n",
    "            \n",
    "        "
   ]
  },
  {
   "cell_type": "code",
   "execution_count": 7,
   "metadata": {},
   "outputs": [
    {
     "name": "stdout",
     "output_type": "stream",
     "text": [
      "[2025-06-22 15:16:41,408: INFO:  common_func:  Yaml file: config/config.yaml has been loaded succesfully]\n",
      "[2025-06-22 15:16:41,411: INFO:  common_func:  Yaml file: params.yaml has been loaded succesfully]\n",
      "[2025-06-22 15:16:41,412: INFO:  common_func:  created directory at: artifacts]\n",
      "[2025-06-22 15:16:41,412: INFO:  common_func:  created directory at: artifacts/data_validation]\n",
      "[2025-06-22 15:16:41,413: INFO:  3456629046:  Checking if all required files exist...]\n",
      "[2025-06-22 15:16:41,413: INFO:  3456629046:  All required files exist.]\n",
      "[2025-06-22 15:16:41,414: INFO:  3456629046:  All required files exist.]\n",
      "[2025-06-22 15:16:41,415: INFO:  3456629046:  File dataset_dict.json is missing.]\n",
      "[2025-06-22 15:16:41,415: INFO:  3456629046:  All required files exist.]\n"
     ]
    }
   ],
   "source": [
    "try: \n",
    "    congiuration_manager = ConfigurationManager()\n",
    "    data_validation_config = congiuration_manager.get_data_validation_config()\n",
    "    data_validation = DataValidation(data_validation_config)\n",
    "    data_validation.validation_exist_files()\n",
    " \n",
    "except Exception as e:\n",
    "    raise e"
   ]
  },
  {
   "cell_type": "code",
   "execution_count": null,
   "metadata": {},
   "outputs": [],
   "source": []
  }
 ],
 "metadata": {
  "kernelspec": {
   "display_name": "myenv",
   "language": "python",
   "name": "python3"
  },
  "language_info": {
   "codemirror_mode": {
    "name": "ipython",
    "version": 3
   },
   "file_extension": ".py",
   "mimetype": "text/x-python",
   "name": "python",
   "nbconvert_exporter": "python",
   "pygments_lexer": "ipython3",
   "version": "3.10.0"
  }
 },
 "nbformat": 4,
 "nbformat_minor": 2
}
